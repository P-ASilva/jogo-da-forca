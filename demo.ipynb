{
 "cells": [
  {
   "cell_type": "code",
   "execution_count": 1,
   "metadata": {},
   "outputs": [
    {
     "name": "stderr",
     "output_type": "stream",
     "text": [
      "c:\\Users\\Pedro Antônio Silva\\AppData\\Local\\Programs\\Python\\Python310\\lib\\site-packages\\scipy\\__init__.py:146: UserWarning: A NumPy version >=1.16.5 and <1.23.0 is required for this version of SciPy (detected version 1.24.2\n",
      "  warnings.warn(f\"A NumPy version >={np_minversion} and <{np_maxversion}\"\n"
     ]
    }
   ],
   "source": [
    "# Importando bibliotecas necessárias.\n",
    "\n",
    "import random\n",
    "import requests\n",
    "import scipy.stats as stats\n",
    "import numpy as np\n",
    "import pandas as pd"
   ]
  },
  {
   "attachments": {},
   "cell_type": "markdown",
   "metadata": {},
   "source": [
    "# O Jogo da Forca\n",
    "Primeiramente, é bom ter em mente o funcionamento do nosso jogo:\n",
    "- Sabemos o tamanho da palavra;\n",
    "- Sabemos onde a letra tentada está na palavra;\n",
    "- Tentar uma letra e acertar não altera nossas vidas;\n",
    "- Tentar adivinhar uma palavra errada termina o jogo;"
   ]
  },
  {
   "cell_type": "code",
   "execution_count": 2,
   "metadata": {},
   "outputs": [],
   "source": [
    "class JogoDeForca:\n",
    "    def __init__(self):\n",
    "        import requests\n",
    "        url = 'https://www.ime.usp.br/~pf/dicios/br-sem-acentos.txt'\n",
    "        r = requests.get(url, allow_redirects=True)\n",
    "        if r.status_code==200:\n",
    "            self.content = str(r.content.decode()).split('\\n')\n",
    "    \n",
    "    def novo_jogo(self, vidas=5):\n",
    "        self.vidas = vidas\n",
    "        self.palavra = random.choice([palavra.upper() for palavra in self.content])\n",
    "        return len(self.palavra)\n",
    "\n",
    "    def tentar_letra(self, letra):\n",
    "        if self.vidas > 0:\n",
    "            if letra in self.palavra:\n",
    "                return [idx for idx in range(len(self.palavra)) if self.palavra[idx]==letra]\n",
    "            else:\n",
    "                self.vidas -= 1\n",
    "                if self.vidas == 0:\n",
    "                    print(\"Fim de jogo!\")\n",
    "                    return False\n",
    "                else:\n",
    "                    return []\n",
    "        \n",
    "    def tentar_palavra(self, palavra):\n",
    "        if self.vidas > 0:\n",
    "            if self.palavra.lower() == palavra.lower():\n",
    "                return True\n",
    "            else:\n",
    "                self.vidas = 0\n",
    "                return False"
   ]
  },
  {
   "cell_type": "code",
   "execution_count": 3,
   "metadata": {},
   "outputs": [],
   "source": [
    "# Criando o dicionário já formatado para uso.\n",
    "\n",
    "url = 'https://www.ime.usp.br/~pf/dicios/br-sem-acentos.txt'\n",
    "r = requests.get(url, allow_redirects=True)\n",
    "\n",
    "if r.status_code==200:\n",
    "    content = str(r.content.decode()).split('\\n')\n",
    "\n",
    "dicio = []\n",
    "\n",
    "for palavra in content:\n",
    "    dicio.append(palavra.upper())\n"
   ]
  },
  {
   "attachments": {},
   "cell_type": "markdown",
   "metadata": {},
   "source": [
    "# O jogador\n",
    "\n",
    "Com base nas informações que temos sobre o funcionamento do jogo, podemos definir algumas prioridades para nosso agente:\n",
    "\n",
    "- Como não perdemos vidas por acertar uma letra, basta tentar a letra com maior probabilidade de acerto que estaremos jogando de forma ótima, exceto quando essa probabilidade diferir muito pouco das demais, para esse caso a escolha ótima seria dependente de predizer probabilidades futuras.\n",
    "    - Não sabemos se esta exceção será relevante para o desempenho final do agente, então farei o agente priorizar escolhas sem contar com isso.\n",
    "- O agente tentará palavras somente se for sua ultima vida ou se tiver sobrado apenas uma palavra nas possibilidades, já que tentar uma palavra precoçemente não gera informações novas, tem maior chance de erro e nos faz perder o jogo. \n",
    "- Sabendo o tamanho da palavra, podemos já eliminar possibilidades antes de fazer nossa primeira tentativa.\n",
    "- Depois de tentarmos uma letra, podemos eliminar possibilidades que não a contenham no mesmo lugar."
   ]
  },
  {
   "cell_type": "code",
   "execution_count": 4,
   "metadata": {},
   "outputs": [],
   "source": [
    "data = []\n",
    "class Jogador():\n",
    "    def __init__(self):\n",
    "        self.jogo = JogoDeForca()\n",
    "        palavras_possíveis = []\n",
    "        self.prev = []\n",
    "        size = self.jogo.novo_jogo()\n",
    "        self.s = size\n",
    "        self.data = data\n",
    "        for palavra in dicio:\n",
    "            if len(palavra) == size :\n",
    "                palavras_possíveis.append(palavra)\n",
    "        self.palavras_possíveis = set(palavras_possíveis)\n",
    "            \n",
    "    def run(self):\n",
    "        while self.jogo.vidas > 0:\n",
    "            self.record()\n",
    "            if (self.jogo.vidas > 1) & (len(self.palavras_possíveis) > 1):\n",
    "                lp, p = self.maior_p()\n",
    "                pos = self.jogo.tentar_letra(lp)\n",
    "                new = []\n",
    "                if pos != []:\n",
    "                    for palavra in self.palavras_possíveis:\n",
    "                        b = False\n",
    "                        for i in pos:\n",
    "                            if palavra[i] != lp:\n",
    "                                b = True\n",
    "                        if not b:\n",
    "                            new.append(palavra)    \n",
    "                else:\n",
    "                    for palavra in self.palavras_possíveis:\n",
    "                        if lp not in palavra:\n",
    "                            new.append(palavra)\n",
    "                self.prev.append(lp)\n",
    "                self.palavras_possíveis = set(new)\n",
    "            else:       \n",
    "                guess = random.choice(list(self.palavras_possíveis))\n",
    "                return self.jogo.tentar_palavra(guess)\n",
    "    # extrai a letra com maior ocorrência e sua frequência.\n",
    "    def maior_p(self):\n",
    "        f = self.freq_calc()\n",
    "        max = 0\n",
    "        for k in f.keys():\n",
    "            if (f[k] >= max) & (k not in self.prev):\n",
    "                max = f[k]\n",
    "                key = k\n",
    "        return key,max\n",
    "    # Calcula a frequência de ocorrência de letras em todas as palavras. (apenas uma é contada por palavra)\n",
    "    def freq_calc(self):\n",
    "        freq = {}\n",
    "        n = len(self.palavras_possíveis)\n",
    "        for palavra in self.palavras_possíveis:\n",
    "            for letra in set(palavra):\n",
    "                if letra not in freq:\n",
    "                    freq[letra] = 1/n\n",
    "                else:\n",
    "                    freq[letra] += 1/n\n",
    "        return freq\n",
    "    \n",
    "    def record(self):\n",
    "        freq = self.freq_calc()\n",
    "        data = stats.entropy(list(freq.values()), base=2)\n",
    "        self.data.append(data)"
   ]
  },
  {
   "cell_type": "code",
   "execution_count": 6,
   "metadata": {},
   "outputs": [],
   "source": [
    "# código feito para testar mil jogos com o agente em questão.\n",
    "v = 0\n",
    "l = 0\n",
    "r = True\n",
    "results = []\n",
    "for _ in range(10):\n",
    "    for _ in range(100):\n",
    "        j1 = Jogador()\n",
    "        r = j1.run()\n",
    "        if r == True:\n",
    "            v += 1\n",
    "        else:\n",
    "            l += 1\n",
    "        results.append(v/(v+l))\n"
   ]
  },
  {
   "cell_type": "code",
   "execution_count": null,
   "metadata": {},
   "outputs": [
    {
     "name": "stdout",
     "output_type": "stream",
     "text": [
      "0 0\n"
     ]
    }
   ],
   "source": [
    "data = pd.DataFrame(results)\n",
    "data.mean()"
   ]
  },
  {
   "attachments": {},
   "cell_type": "markdown",
   "metadata": {},
   "source": [
    "### Por que escolher a letra com maior probabilidade de ocorrência sem nos preocuparmos com entropia nos retorna um funcionamento tão bom?\n",
    "\n",
    "Quando tentamos uma letra, com por exemplo 80% de ocorrência nas palavras possíveis, podemos obter um de dois resultados:\n",
    "\n",
    "- Acertamos, então eliminamos menos possibilidades, porém não perdemos vidas, então aumentamos nossas chances de acerto sem perder nada com isso.\n",
    "\n",
    "- Erramos, então reduzimos nossas possibilidades para o minimo possível naquela rodada, ao custo de uma vida.\n"
   ]
  }
 ],
 "metadata": {
  "kernelspec": {
   "display_name": "Python 3",
   "language": "python",
   "name": "python3"
  },
  "language_info": {
   "codemirror_mode": {
    "name": "ipython",
    "version": 3
   },
   "file_extension": ".py",
   "mimetype": "text/x-python",
   "name": "python",
   "nbconvert_exporter": "python",
   "pygments_lexer": "ipython3",
   "version": "3.10.3"
  },
  "orig_nbformat": 4
 },
 "nbformat": 4,
 "nbformat_minor": 2
}
